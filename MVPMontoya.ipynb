{
 "cells": [
  {
   "cell_type": "markdown",
   "metadata": {
    "application/vnd.databricks.v1+cell": {
     "cellMetadata": {
      "byteLimit": 2048000,
      "rowLimit": 10000
     },
     "inputWidgets": {},
     "nuid": "02fd5e1d-4319-4338-a489-c67a03f4902c",
     "showTitle": false,
     "title": ""
    }
   },
   "source": [
    "**MVP Trabalho Final**\n",
    "\n",
    "Aluno: Rodolfo Montoya\n",
    "\n",
    "Disciplina: Engenharia de dados\n",
    "\n",
    "Data de entrega: 04 de Julho de 2024**\n",
    "\n",
    "**Objetivo**\n",
    "\n",
    "Objetivo deste MVP, é avaliar a capacidade estrutural das pontes nas estradas dos Estados Unidos, verificando se existem profissionais suficientes para realizar trabalhos de inspeção e avaliando orçamentos necessários para realizar inspeções, projetos e manutenções.\n",
    "Nossas perguntas que queremos responder seriam:\n",
    "•   Risco estrutural das pontes?\n",
    "•   Frequência necessária de inspeção?\n",
    "•   Quantidades de oportunidades e profissionais?\n",
    "•   Necessidade de investimento?\n",
    "\n",
    "**Plataforma**\n",
    "\n",
    "Direcionamos a Plataforma Databricks. Sendo que dentro do Microsoft Azure, temos esta ferramenta de Databricks e toda a arquitetura de dados será realizada na nuvem do Azure.\n",
    "Detalhamento\n",
    "A escolha de nossos dados foi obtida de pesquisas de informações internas, raspagem de dados do site da ASCE, classificados americanos, assim como do site kaggle.\n",
    "Dados utilizados:\n",
    "•   Data.NBI.csv obtido do kaggle - https://www.kaggle.com/datasets/broach/build-bridges-not-walls;\n",
    "•   mtguide.pdf, obtido do site da internet https://www.fhwa.dot.gov/bridge/mtguide.pdf – federal highway administration, deste arquivo foram raspadas diferentes tabelas para alimentação de nossos dados principais. Aqui foram raspadas diferentes tabelas.\n",
    " \n",
    "**Coleta, Modelagem e Carga**\n",
    "\n",
    "Uma vez definido o conjunto de dados, devemos coletar e armazená-los na nuvem, este processo de armazenagem segue as disposições de uma arquitetura para ETL, desenvolvendo assim está no Azure, utilizando a carga dos dados para o Data Warehouse/Data Lake. Utilizamos pipelines de ETL (Extração, Transformação e Carga) na Azure e Databricks.\n",
    "Criada conta de armazenamento com três camadas. \n",
    "Criado o pipeline.\n",
    "E criado nosso cluster com nosso notebook\n",
    "Na camada bronze foi colocado nossos dados brutos\n",
    "E posteriormente com o código chegamos até nossa camada silver com dados já previamente tratados\n",
    "A camada gold foi mais o cálculo e tratamento final dos dados para avaliação de risco em estruturas e disponibilizados para nossos clientes.\n",
    "\n",
    "**Análise**\n",
    "\n",
    "Qualidade de dados Os atributos encontrados tiveram alguns dados desnecessários para nossa análise, não é uma boa prática alterar a camada bruta, por isso que o tratamento dos dados é feito na silver, aqui deletamos dados que não seriam úteis para nossos questionamentos. Nas oportunidades de trabalho foi mais complexo o tratamento porque existem muitas funções e precisamos de avaliar as que são úteis para nosso questionamento."
   ]
  },
  {
   "cell_type": "markdown",
   "metadata": {
    "application/vnd.databricks.v1+cell": {
     "cellMetadata": {
      "byteLimit": 2048000,
      "rowLimit": 10000
     },
     "inputWidgets": {},
     "nuid": "6c2690e3-65ac-4160-a2de-0486edbe0afb",
     "showTitle": false,
     "title": ""
    }
   },
   "source": [
    "**Solução do problema**"
   ]
  },
  {
   "cell_type": "markdown",
   "metadata": {
    "application/vnd.databricks.v1+cell": {
     "cellMetadata": {
      "byteLimit": 2048000,
      "rowLimit": 10000
     },
     "inputWidgets": {},
     "nuid": "b4979a81-cb43-4dcb-856c-fa010f2876d6",
     "showTitle": false,
     "title": ""
    }
   },
   "source": [
    "Montagem das bases das camadas bronze, silver e gold"
   ]
  },
  {
   "cell_type": "code",
   "execution_count": 0,
   "metadata": {
    "application/vnd.databricks.v1+cell": {
     "cellMetadata": {
      "byteLimit": 2048000,
      "rowLimit": 10000
     },
     "inputWidgets": {},
     "nuid": "ea7372bf-8528-4b8e-90c4-c32ae39a539b",
     "showTitle": false,
     "title": ""
    }
   },
   "outputs": [],
   "source": [
    "dbutils.fs.unmount('/mnt/azuredatabricksmvp2024/bronze')\n",
    "dbutils.fs.mount(\n",
    "  source = 'wasbs://bronze@azuredatabricksmvp2024.blob.core.windows.net/',\n",
    "  mount_point = '/mnt/azuredatabricksmvp2024/bronze',\n",
    "  extra_configs = {'fs.azure.account.key.azuredatabricksmvp2024.blob.core.windows.net': 'aKryGss0+fXjV8YXg6uRiDl4p2ZDAifGTH/7fVGGkonQMLzmyldgy8OvUu7EPkSzlod0U0kCxcvx+AStFta46Q=='}\n",
    ")"
   ]
  },
  {
   "cell_type": "code",
   "execution_count": 0,
   "metadata": {
    "application/vnd.databricks.v1+cell": {
     "cellMetadata": {
      "byteLimit": 2048000,
      "rowLimit": 10000
     },
     "inputWidgets": {},
     "nuid": "2ac4d4aa-dd56-4170-864c-06aaa722ebca",
     "showTitle": false,
     "title": ""
    }
   },
   "outputs": [],
   "source": [
    "dbutils.fs.unmount('/mnt/azuredatabricksmvp2024/silver')\n",
    "\n",
    "dbutils.fs.mount(\n",
    "  source = 'wasbs://silver@azuredatabricksmvp2024.blob.core.windows.net/',\n",
    "  mount_point = '/mnt/azuredatabricksmvp2024/silver',\n",
    "  extra_configs = {'fs.azure.account.key.azuredatabricksmvp2024.blob.core.windows.net': 'aKryGss0+fXjV8YXg6uRiDl4p2ZDAifGTH/7fVGGkonQMLzmyldgy8OvUu7EPkSzlod0U0kCxcvx+AStFta46Q=='}\n",
    ")"
   ]
  },
  {
   "cell_type": "code",
   "execution_count": 0,
   "metadata": {
    "application/vnd.databricks.v1+cell": {
     "cellMetadata": {
      "byteLimit": 2048000,
      "rowLimit": 10000
     },
     "inputWidgets": {},
     "nuid": "3556f83f-c58b-4c1e-843d-a2060cc6eb05",
     "showTitle": false,
     "title": ""
    }
   },
   "outputs": [],
   "source": [
    "dbutils.fs.unmount('/mnt/azuredatabricksmvp2024/gold')\n",
    "dbutils.fs.mount(\n",
    "  source = 'wasbs://gold@azuredatabricksmvp2024.blob.core.windows.net/',\n",
    "  mount_point = '/mnt/azuredatabricksmvp2024/gold',\n",
    "  extra_configs = {'fs.azure.account.key.azuredatabricksmvp2024.blob.core.windows.net': 'aKryGss0+fXjV8YXg6uRiDl4p2ZDAifGTH/7fVGGkonQMLzmyldgy8OvUu7EPkSzlod0U0kCxcvx+AStFta46Q=='}\n",
    ")"
   ]
  },
  {
   "cell_type": "markdown",
   "metadata": {
    "application/vnd.databricks.v1+cell": {
     "cellMetadata": {
      "byteLimit": 2048000,
      "rowLimit": 10000
     },
     "inputWidgets": {},
     "nuid": "7f60111c-b5a3-482e-9d13-0e5eb91c4f78",
     "showTitle": false,
     "title": ""
    }
   },
   "source": [
    "Visualizando os dados que tenho na minha camada bronze, feito o carregamento com tabelas que serão utilizadas na análise"
   ]
  },
  {
   "cell_type": "code",
   "execution_count": 0,
   "metadata": {
    "application/vnd.databricks.v1+cell": {
     "cellMetadata": {
      "byteLimit": 2048000,
      "rowLimit": 10000
     },
     "inputWidgets": {},
     "nuid": "14fd4e59-191b-4fcf-8355-ebe308421e7d",
     "showTitle": false,
     "title": ""
    }
   },
   "outputs": [],
   "source": [
    "#criar database\n",
    "spark.sql('CREATE DATABASE IF NOT EXISTS bridge')"
   ]
  },
  {
   "cell_type": "code",
   "execution_count": 0,
   "metadata": {
    "application/vnd.databricks.v1+cell": {
     "cellMetadata": {
      "byteLimit": 2048000,
      "rowLimit": 10000
     },
     "inputWidgets": {},
     "nuid": "f04ce2d6-5237-4803-a281-49413a80b22c",
     "showTitle": false,
     "title": ""
    }
   },
   "outputs": [],
   "source": [
    "#ler camada bronze\n",
    "file_location = 'dbfs:/mnt/azuredatabricksmvp2024/bronze/data_NBI.csv'\n",
    "file_type = 'csv'\n",
    "infer_schema = 'true'\n",
    "first_row_is_header = 'true'\n",
    "delimiter = ','\n",
    "df_bridge_bronze = spark.read.format(file_type).option('inferSchema', infer_schema).option('header', first_row_is_header).option('sep', delimiter).load(file_location)\n",
    "display(df_bridge_bronze)\n"
   ]
  },
  {
   "cell_type": "markdown",
   "metadata": {
    "application/vnd.databricks.v1+cell": {
     "cellMetadata": {
      "byteLimit": 2048000,
      "rowLimit": 10000
     },
     "inputWidgets": {},
     "nuid": "3da456da-5096-41ae-b559-223a7834f645",
     "showTitle": false,
     "title": ""
    }
   },
   "source": [
    "OBSERVEI QUE NO MOMENTO QUE ANALIZANDO OS DADOS TINHA MUITO ERROS E SEM CABEÇALHOS VOU FAZER UM TRATAMENTO INICIAL DO BRONZE, CRIANDO UMA TABELA MAIS ESTRUTURADA"
   ]
  },
  {
   "cell_type": "code",
   "execution_count": 0,
   "metadata": {
    "application/vnd.databricks.v1+cell": {
     "cellMetadata": {
      "byteLimit": 2048000,
      "rowLimit": 10000
     },
     "inputWidgets": {},
     "nuid": "250faa4b-7e8f-48b4-a9ba-02f470e4eb41",
     "showTitle": false,
     "title": ""
    }
   },
   "outputs": [],
   "source": [
    "field_map = {\n",
    "    'ITEM1':  { 'State Code'},\n",
    "    'ITEM8':  { 'Structure Number'},\n",
    "    'ITEM5':  { 'Inventory Route'},\n",
    "    'ITEM5A': { 'Record Type'},\n",
    "    'ITEM5B': { 'Route Signing Prefix'},\n",
    "    'ITEM5C': { 'Designated Level of Service'},\n",
    "    'ITEM5D': { 'Route Number'},\n",
    "    'ITEM5E': { 'Directional Suffix'},\n",
    "    'ITEM2':  { 'Highway Agency District'},\n",
    "    'ITEM3':  { 'County (Parish) Code'},\n",
    "    'ITEM4':  { 'Place Code'},\n",
    "    'ITEM6':  { 'Features Intersected'},\n",
    "    'ITEM6A': { 'Features Intersected'},\n",
    "    'ITEM6B': { 'Critical Facility Indicator'},\n",
    "    'ITEM7':  { 'Facility Carried By Structure'},\n",
    "    'ITEM9':  { 'Location'},\n",
    "    'ITEM10': { 'Inventory Rte, Min Vert Clearance'},\n",
    "    'ITEM11': { 'Kilometerpoint'},\n",
    "    'ITEM12': { 'Base Highway Network'},\n",
    "    'ITEM13': { 'Inventory Route'},\n",
    "    'ITEM13A': { 'LRS Inventory Route'},\n",
    "    'ITEM13B': { 'Subroute Number'},\n",
    "    'ITEM16': { 'Latitude'},\n",
    "    'ITEM17': { 'Longitude'},\n",
    "    'ITEM19': { 'Bypass/Detour Length'},\n",
    "    'ITEM20': { 'Toll'},\n",
    "    'ITEM21': { 'Maintenance Responsibility'},\n",
    "    'ITEM22': { 'Owner'},\n",
    "    'ITEM26': { 'Functional Class Of Inventory Rte.'},\n",
    "    'ITEM27': { 'Year Built'},\n",
    "    'ITEM28': { 'Lanes On/Under Structure'},\n",
    "    'ITEM28A': { 'Lanes On Structure'},\n",
    "    'ITEM28B': { 'Lanes Under Structure'},\n",
    "    'ITEM29': { 'Average Daily Traffic'},\n",
    "    'ITEM30': { 'Year Of Average Daily Traffic'},\n",
    "    'ITEM31': { 'Design Load'},\n",
    "    'ITEM32': { 'Approach Roadway Width'},\n",
    "    'ITEM33': { 'Bridge Median'},\n",
    "    'ITEM34': { 'Skew'},\n",
    "    'ITEM35': { 'Structure Flared'},\n",
    "    'ITEM36': { 'Traffic Safety Features'},\n",
    "    'ITEM36A': { 'Bridge Railings'},\n",
    "    'ITEM36B': { 'Transitions'},\n",
    "    'ITEM36C': { 'Approach Guardrail'},\n",
    "    'ITEM36D': { 'Approach Guardrail Ends'},\n",
    "    'ITEM37': { 'Historical significance'},\n",
    "    'ITEM38': { 'Navigation Control'},\n",
    "    'ITEM39': { 'Navigation Vertical Clearance'},\n",
    "    'ITEM40': { 'Navigation Horizontal Clearance'},\n",
    "    'ITEM41': { 'Structure Open/Posted/Closed'},\n",
    "    'ITEM42': { 'Type Of Service'},\n",
    "    'ITEM42A': { 'Type of Service On Bridge'},\n",
    "    'ITEM42B': { 'Type of Service Under Bridge'},\n",
    "    'ITEM43':  { 'Structure Type, Main'},\n",
    "    'ITEM43A': { 'Kind of Material/Design'},\n",
    "    'ITEM43B': { 'Type of Design/Construction'},\n",
    "    'ITEM44':  { 'Structure Type, Approach Spans'},\n",
    "    'ITEM44A': { 'Kind of Material/Design'},\n",
    "    'ITEM44B': { 'Type of Design/Construction'},\n",
    "    'ITEM45':  { 'Number Of Spans In Main Unit'},\n",
    "    'ITEM46':  { 'Number Of Approach Spans'},\n",
    "    'ITEM47':  { 'Inventory Rte Total Horz Clearance'},\n",
    "    'ITEM48':  { 'Length Of Maximum Span'},\n",
    "    'ITEM49':  { 'Structure Length'},\n",
    "    'ITEM50':  { 'Curb/Sidewalk Widths'},\n",
    "    'ITEM50A': { 'Left Curb/Sidewalk Width'},\n",
    "    'ITEM50B': { 'Right Curb/Sidewalk Width'},\n",
    "    'ITEM51':  { 'Bridge Roadway Width Curb-To-Curb'},\n",
    "    'ITEM52':  { 'Deck Width, Out-To-Out'},\n",
    "    'ITEM53':  { 'Min Vert Clear Over Bridge Roadway'},\n",
    "    'ITEM54':  { 'Minimum Vertical Underclearance'},\n",
    "    'ITEM54A': { 'Reference Feature'},\n",
    "    'ITEM54B': { 'Minimum Vertical Underclearance'},\n",
    "    'ITEM55':  { 'Min Lateral Underclear On Right'},\n",
    "    'ITEM55A': { 'Reference Feature'},\n",
    "    'ITEM55B': { 'Minimum Lateral Underclearance'},\n",
    "    'ITEM56':  { 'Min Lateral Underclear On Left'},\n",
    "    'ITEM58':  { 'Deck'},\n",
    "    'ITEM59':  { 'Superstructure'},\n",
    "    'ITEM60':  { 'Substructure'},\n",
    "    'ITEM61':  { 'Channel/Channel Protection'},\n",
    "    'ITEM62':  { 'Culverts'},\n",
    "    'ITEM63':  { 'Method Used To Determine Operating Rating'},\n",
    "    'ITEM64':  { 'Operating Rating'},\n",
    "    'ITEM65':  { 'Method Used To Determine Inventory Rating'},\n",
    "    'ITEM66':  { 'Inventory Rating'},\n",
    "    'ITEM67':  { 'Structural Evaluation'},\n",
    "    'ITEM68':  { 'Deck Geometry'},\n",
    "    'ITEM69':  { 'Underclear, Vertical & Horizontal'},\n",
    "    'ITEM70':  { 'Bridge Posting'},\n",
    "    'ITEM71':  { 'Waterway Adequacy'},\n",
    "    'ITEM72':  { 'Approach Roadway Alignment'},\n",
    "    'ITEM75':  { 'Type of Work'},\n",
    "    'ITEM75A': { 'Type of Work Proposed'},\n",
    "    'ITEM75B': { 'Work Done By'},\n",
    "    'ITEM76':  { 'Length Of Structure Improvement'},\n",
    "    'ITEM90':  { 'Inspection Date'},\n",
    "    'ITEM91':  { 'Designated Inspection Frequency'},\n",
    "    'ITEM92':  { 'Critical Feature Inspection'},\n",
    "    'ITEM92A': { 'Fracture Critical Details'},\n",
    "    'ITEM92B': { 'Underwater Inspection'},\n",
    "    'ITEM92C': { 'Other Special Inspection'},\n",
    "    'ITEM93':  { 'Critical Feature Inspection Dates'},\n",
    "    'ITEM93A': { 'Fracture Critical Details Date'},\n",
    "    'ITEM93B': { 'Underwater Inspection Date'},\n",
    "    'ITEM93C': { 'Other Special Inspection Date'},\n",
    "    'ITEM94':  { 'Bridge Improvement Cost'},\n",
    "    'ITEM95':  { 'Roadway Improvement Cost'},\n",
    "    'ITEM96':  { 'Total Project Cost'},\n",
    "    'ITEM97':  { 'Year Of Improvement Cost Estimate'},\n",
    "    'ITEM98':  { 'Border Bridge'},\n",
    "    'ITEM98A': { 'Neighboring State Code'},\n",
    "    'ITEM98B': { 'Percent Responsibility'},\n",
    "    'ITEM99':  { 'Border Bridge Structure Number'},\n",
    "    'ITEM100': { 'STRAHNET Highway Designation'},\n",
    "    'ITEM101': { 'Parallel Structure Designation'},\n",
    "    'ITEM102': { 'Direction Of Traffic'},\n",
    "    'ITEM103': { 'Temporary Structure Designation'},\n",
    "    'ITEM104': { 'Highway System Of Inventory Route'},\n",
    "    'ITEM105': { 'Federal Lands Highways'},\n",
    "    'ITEM106': { 'Year Reconstructed'},\n",
    "    'ITEM107': { 'Deck Structure Type'},\n",
    "    'ITEM108': { 'Wearing Surface/Protective System'},\n",
    "    'ITEM108A': { 'Type of Wearing Surface'},\n",
    "    'ITEM108B': { 'Type of Membrane'},\n",
    "    'ITEM108C': { 'Deck Protection'},\n",
    "    'ITEM109': { 'AVERAGE DAILY TRUCK TRAFFIC'},\n",
    "    'ITEM110': { 'DESIGNATED NATIONAL NETWORK'},\n",
    "    'ITEM111': { 'PIER/ABUTMENT PROTECTION'},\n",
    "    'ITEM112': { 'NBIS BRIDGE LENGTH'},\n",
    "    'ITEM113': { 'SCOUR CRITICAL BRIDGES'},\n",
    "    'ITEM114': {'FUTURE AVERAGE DAILY TRAFFIC'},\n",
    "    'ITEM115': { 'YEAR OF FUTURE AVG DAILY TRAFFIC'},\n",
    "    'ITEM116': { 'MINIMUM NAVIGATION VERTICAL CLEARANCE VERTICAL LIFT BRIDGE'}\n",
    "}\n",
    "\n",
    "limpeza=['ITEM1','ITEM8','ITEM5A','ITEM5B','ITEM5C','ITEM5D','ITEM5E','ITEM2','ITEM3','ITEM4','ITEM6A','ITEM6B','ITEM7','ITEM9','ITEM10','ITEM11','ITEM12','ITEM13','ITEM13A','ITEM13B','ITEM16','ITEM17','ITEM19','ITEM20','ITEM21','ITEM22','ITEM26','ITEM27','ITEM28','ITEM28A','ITEM28B','ITEM29','ITEM30','ITEM31','ITEM32','ITEM33','ITEM34','ITEM35','ITEM36','ITEM36A','ITEM36B','ITEM36C','ITEM36D','ITEM37','ITEM38','ITEM39','ITEM40','ITEM41','ITEM42','ITEM42A','ITEM42B','ITEM43','ITEM43A','ITEM43B','ITEM44','ITEM44A','ITEM44B','ITEM45','ITEM46','ITEM47','ITEM48','ITEM49','ITEM50','ITEM50A','ITEM50B','ITEM51','ITEM52','ITEM53','ITEM54','ITEM54A','ITEM54B','ITEM55','ITEM55A','ITEM55B','ITEM56','ITEM58','ITEM59','ITEM60','ITEM61','ITEM62','ITEM63','ITEM64','ITEM65','ITEM66','ITEM67','ITEM68',  'ITEM69','ITEM70', 'ITEM71', 'ITEM72','ITEM75', 'ITEM75A','ITEM75B','ITEM76','ITEM90','ITEM91','ITEM92','ITEM92A','ITEM92B','ITEM92C','ITEM93','ITEM93A','ITEM93B','ITEM93C','ITEM94','ITEM95','ITEM96','ITEM97','ITEM98','ITEM98A','ITEM98B','ITEM99','ITEM100','ITEM101','ITEM102','ITEM103','ITEM104','ITEM105','ITEM106','ITEM107','ITEM108','ITEM108A','ITEM108B','ITEM108C','ITEM109','ITEM110','ITEM111','ITEM112','ITEM113','ITEM114','ITEM115','ITEM116']\n",
    "print(field_map.get('ITEM110'))\n",
    "\n"
   ]
  },
  {
   "cell_type": "code",
   "execution_count": 0,
   "metadata": {
    "application/vnd.databricks.v1+cell": {
     "cellMetadata": {
      "byteLimit": 2048000,
      "rowLimit": 10000
     },
     "inputWidgets": {},
     "nuid": "3bb6426f-9c66-454e-b31b-67b4460bb21f",
     "showTitle": false,
     "title": ""
    }
   },
   "outputs": [],
   "source": [
    "from pyspark.sql import SparkSession\n",
    "\n",
    "spark = SparkSession.builder.getOrCreate()\n",
    "\n",
    "df_bridge_bronze01 = spark.sql(\"SELECT * FROM pipelinedatabricks.bridge.silverbridge\")\n",
    "\n",
    "display(df_bridge_bronze01)\n",
    "df_bridge_bronze01.printSchema"
   ]
  },
  {
   "cell_type": "code",
   "execution_count": 0,
   "metadata": {
    "application/vnd.databricks.v1+cell": {
     "cellMetadata": {
      "byteLimit": 2048000,
      "rowLimit": 10000
     },
     "inputWidgets": {},
     "nuid": "9a76033e-5315-46ab-9f4a-9037fe50171c",
     "showTitle": false,
     "title": ""
    }
   },
   "outputs": [],
   "source": [
    "%fs ls dbfs:/mnt/azuredatabricksmvp2024/bronze"
   ]
  },
  {
   "cell_type": "markdown",
   "metadata": {
    "application/vnd.databricks.v1+cell": {
     "cellMetadata": {
      "byteLimit": 2048000,
      "rowLimit": 10000
     },
     "inputWidgets": {},
     "nuid": "e4972205-2a5b-4c24-82fd-9f05b26d5594",
     "showTitle": false,
     "title": ""
    }
   },
   "source": [
    "Dados complementares"
   ]
  },
  {
   "cell_type": "code",
   "execution_count": 0,
   "metadata": {
    "application/vnd.databricks.v1+cell": {
     "cellMetadata": {
      "byteLimit": 2048000,
      "rowLimit": 10000
     },
     "inputWidgets": {},
     "nuid": "48a2246d-a0d7-4233-b3ba-422e825d2de1",
     "showTitle": false,
     "title": ""
    }
   },
   "outputs": [],
   "source": [
    "#ler camada bronze\n",
    "from pyspark.sql.functions import *\n",
    "\n",
    "file_location01 = 'dbfs:/mnt/azuredatabricksmvp2024/bronze/Tabela de Estados.CSV'\n",
    "file_location02 = 'dbfs:/mnt/azuredatabricksmvp2024/bronze/TabelaRespon.csv'\n",
    "file_location03 = 'dbfs:/mnt/azuredatabricksmvp2024/bronze/HISTORIA.CSV'\n",
    "file_location04 = 'dbfs:/mnt/azuredatabricksmvp2024/bronze/DADOS01.CSV'\n",
    "file_location05 = 'dbfs:/mnt/azuredatabricksmvp2024/bronze/DADOS02.CSV'\n",
    "file_location06 = 'dbfs:/mnt/azuredatabricksmvp2024/bronze/DADOS03.CSV'\n",
    "file_type = 'csv'\n",
    "infer_schema = 'true'\n",
    "first_row_is_header = 'true'\n",
    "delimiter = ';'\n",
    "\n",
    "df_nomes_estados = spark.read.format(file_type).option('inferSchema', infer_schema).option('header', first_row_is_header).option('sep', delimiter).load(file_location01)\n",
    "df_tabResponsável = spark.read.format(file_type).option('inferSchema', infer_schema).option('header', first_row_is_header).option('sep', delimiter).load(file_location02)\n",
    "df_tabHistoria = spark.read.format(file_type).option('inferSchema', infer_schema).option('header', first_row_is_header).option('sep', delimiter).load(file_location03)\n",
    "df_dados01 = spark.read.format(file_type).option('inferSchema', infer_schema).option('header', first_row_is_header).option('sep', delimiter).load(file_location04)\n",
    "df_dados02 = spark.read.format(file_type).option('inferSchema', infer_schema).option('header', first_row_is_header).option('sep', delimiter).load(file_location05)\n",
    "df_dados03 = spark.read.format(file_type).option('inferSchema', infer_schema).option('header', first_row_is_header).option('sep', delimiter).load(file_location06)\n",
    "\n",
    "display(df_nomes_estados)\n",
    "display(df_tabResponsável)\n",
    "display(df_tabHistoria)\n",
    "display(df_dados01)\n",
    "display(df_dados02)\n",
    "display(df_dados03)"
   ]
  },
  {
   "cell_type": "markdown",
   "metadata": {
    "application/vnd.databricks.v1+cell": {
     "cellMetadata": {
      "byteLimit": 2048000,
      "rowLimit": 10000
     },
     "inputWidgets": {},
     "nuid": "5e81662f-fde0-401e-ac62-e7d3102b6158",
     "showTitle": false,
     "title": ""
    }
   },
   "source": [
    "Aqui posso começar a tratar para evoluir para o silver."
   ]
  },
  {
   "cell_type": "code",
   "execution_count": 0,
   "metadata": {
    "application/vnd.databricks.v1+cell": {
     "cellMetadata": {
      "byteLimit": 2048000,
      "rowLimit": 10000
     },
     "inputWidgets": {},
     "nuid": "a29990c5-d39c-4683-8f38-6e10b896eea1",
     "showTitle": false,
     "title": ""
    }
   },
   "outputs": [],
   "source": [
    "# Excluindo item desnecessarios para nossa análise e criando a camada silver\n",
    "df_bridge_silver=df_bridge_bronze01\n",
    "\n",
    "deletar=['ITEM6B','ITEM7','ESTADO','STAT','SR2','EXTRA','DATE', 'LONGITUDE', 'LATITUDE', 'LOCAL', 'RESPONSÁVEL']\n",
    "for ajuste in deletar:\n",
    "    if ajuste in df_bridge_silver.columns:  \n",
    "        df_bridge_silver  = df_bridge_silver.drop (ajuste)\n",
    "    else:\n",
    "        print(f\"Column {ajuste} does not exist in the dataframe.\")\n",
    "\n",
    "#alterar alguns cabeçalhos\n",
    "df_bridge_silver=df_bridge_silver.withColumn('ANO INSPEÇÂO',substring('DATA INSPEÇÃO',-2,2))\n",
    "df_bridge_silver = df_bridge_silver.withColumnRenamed(\"AVALIAÇÃO ESTRUCTURAL\", \"AVALIAÇÃO ESTRUTURAL\")\n",
    "\n",
    "#Ajuste de tipo de informação\n",
    "datas=['CUSTO PONTE', 'ANO MANUTENÇÃO', 'FTMD', 'ANO CONSTRUÇÃO', 'QTD LINHAS', 'TMD', 'YTMD', 'TT', 'HISTORICA','MATERIAL','TIPO ESTRUTURAL','QTD VÃO','CLASSIFICAÇÃO OPERAÇÃO', 'CLASSIFICAÇÃO INICIAL','AVALIAÇÃO ESTRUTURAL','FREQ INSPEÇÃO','ANO INSPEÇÂO','SUPERESTRUTURA','INFRAESTRUTURA' ]\n",
    "\n",
    "for ajuste in datas:\n",
    "    if ajuste in df_bridge_silver.columns:  # Check if the column exists\n",
    "        df_bridge_silver=df_bridge_silver\\\n",
    "            .withColumn(ajuste, df_bridge_silver[ajuste].cast('int'))\\\n",
    "            .fillna(0,subset=[ajuste])\n",
    "    else:\n",
    "        print(f\"Column {ajuste} does not exist in the dataframe.\")\n",
    "\n",
    "df_bridge_silver = df_bridge_silver.withColumn('CUSTO_PONTE_REAIS', col('CUSTO PONTE') * 5500\n",
    "                                                 )\n",
    "\n",
    "display(df_bridge_silver)\n"
   ]
  },
  {
   "cell_type": "markdown",
   "metadata": {
    "application/vnd.databricks.v1+cell": {
     "cellMetadata": {
      "byteLimit": 2048000,
      "rowLimit": 10000
     },
     "inputWidgets": {},
     "nuid": "deb5eebc-53e1-42ba-a9fa-9fdaa3d5b51e",
     "showTitle": false,
     "title": ""
    }
   },
   "source": [
    "AQUI FINALIZEI O TRATAMENTO DE DADOS DO SILVER"
   ]
  },
  {
   "cell_type": "code",
   "execution_count": 0,
   "metadata": {
    "application/vnd.databricks.v1+cell": {
     "cellMetadata": {
      "byteLimit": 2048000,
      "rowLimit": 10000
     },
     "inputWidgets": {},
     "nuid": "1e0aa7af-f295-4b6f-8edd-2fc2bb7f7c76",
     "showTitle": false,
     "title": ""
    }
   },
   "outputs": [],
   "source": [
    "from pyspark.sql.functions import col\n",
    "\n",
    "# Rename columns with invalid characters\n",
    "df_bridge_silver = df_bridge_silver.withColumnRenamed(\"ANO CONSTRUÇÃO\", \"ANO_CONSTRUCAO\") \\\n",
    "                                   .withColumnRenamed(\"QTD LINHAS\", \"QTD_LINHAS\")\n",
    "\n",
    "# Assuming there might be other columns with invalid characters, ensure all column names are compliant\n",
    "# This is a generic approach to replace spaces with underscores in all column names\n",
    "for col_name in df_bridge_silver.columns:\n",
    "    new_col_name = col_name.replace(\" \", \"_\").replace(\",\", \"_\").replace(\";\", \"_\") \\\n",
    "                           .replace(\"{\", \"_\").replace(\"}\", \"_\").replace(\"(\", \"_\") \\\n",
    "                           .replace(\")\", \"_\").replace(\"\\n\", \"_\").replace(\"\\t\", \"_\") \\\n",
    "                           .replace(\"=\", \"_\")\n",
    "    df_bridge_silver = df_bridge_silver.withColumnRenamed(col_name, new_col_name)\n",
    "\n",
    "# Write the DataFrame to Delta\n",
    "df_bridge_silver.write.format('delta') \\\n",
    "    .mode('overwrite') \\\n",
    "    .option('mergeSchema', 'true') \\\n",
    "    .save('/mnt/azuredatabricksmvp2024/silver/bridge_silver')"
   ]
  },
  {
   "cell_type": "markdown",
   "metadata": {
    "application/vnd.databricks.v1+cell": {
     "cellMetadata": {
      "byteLimit": 2048000,
      "rowLimit": 10000
     },
     "inputWidgets": {},
     "nuid": "f9de269e-3aad-43ed-97b5-ddda14ade343",
     "showTitle": false,
     "title": ""
    }
   },
   "source": [
    "O cliente pode ja trabalhar com estas tabelas que estão tratadas e que podem ser utilizadas para diferentes perguntas.\n",
    "Nos utilizaremos uma nova camada para avaliar as questões inseridas no inicio do trabalho"
   ]
  },
  {
   "cell_type": "code",
   "execution_count": 0,
   "metadata": {
    "application/vnd.databricks.v1+cell": {
     "cellMetadata": {
      "byteLimit": 2048000,
      "rowLimit": 10000
     },
     "inputWidgets": {},
     "nuid": "40dfa606-0040-4c38-90f7-1e90ef7eedf0",
     "showTitle": false,
     "title": ""
    }
   },
   "outputs": [],
   "source": [
    "%fs ls dbfs:/mnt/azuredatabricksmvp2024/silver"
   ]
  },
  {
   "cell_type": "code",
   "execution_count": 0,
   "metadata": {
    "application/vnd.databricks.v1+cell": {
     "cellMetadata": {
      "byteLimit": 2048000,
      "rowLimit": 10000
     },
     "inputWidgets": {},
     "nuid": "e550dc63-de28-4b78-9ae6-982b61f37e5d",
     "showTitle": false,
     "title": ""
    }
   },
   "outputs": [],
   "source": [
    "display(spark.read.format('delta').load('dbfs:/mnt/azuredatabricksmvp2024/silver/bridge_silver'))"
   ]
  },
  {
   "cell_type": "code",
   "execution_count": 0,
   "metadata": {
    "application/vnd.databricks.v1+cell": {
     "cellMetadata": {
      "byteLimit": 2048000,
      "rowLimit": 10000
     },
     "inputWidgets": {},
     "nuid": "412b85da-6bd5-4de5-92c7-112005aa123b",
     "showTitle": false,
     "title": ""
    }
   },
   "outputs": [],
   "source": [
    "# Alias each DataFrame\n",
    "df_bridge_silver_alias = df_bridge_silver.alias(\"bridge\")\n",
    "df_tabResponsável_alias = df_tabResponsável.alias(\"responsavel\")\n",
    "df_tabHistoria_alias = df_tabHistoria.alias(\"historia\")\n",
    "df_dados01_alias = df_dados01.alias(\"dados01\")\n",
    "df_dados02_alias = df_dados02.alias(\"dados02\")\n",
    "df_dados03_alias = df_dados03.alias(\"dados03\")\n",
    "\n",
    "# Perform the joins using the aliased DataFrames\n",
    "df_bridge_gold = (\n",
    "    df_bridge_silver_alias.join(\n",
    "        df_tabResponsável_alias, \n",
    "        on=df_bridge_silver_alias[\"PROPRIETARIO\"] == df_tabResponsável_alias[\"INDICADOR\"], \n",
    "        how=\"left\"\n",
    "    )\n",
    "    .join(\n",
    "        df_tabHistoria_alias, \n",
    "        on=df_bridge_silver_alias[\"HISTORICA\"] == df_tabHistoria_alias[\"PESO\"], \n",
    "        how=\"left\"\n",
    "    )\n",
    "    .join(\n",
    "        df_dados01_alias, \n",
    "        on=df_bridge_silver_alias[\"FRATURA_CRÍTICA\"] == df_dados01_alias[\"ITEM\"], \n",
    "        how=\"left\"\n",
    "    )\n",
    "    .join(\n",
    "        df_dados02_alias, \n",
    "        on=df_bridge_silver_alias[\"MATERIAL\"] == df_dados02_alias[\"ITEM\"], \n",
    "        how=\"left\"\n",
    "    )\n",
    "    .join(\n",
    "        df_dados03_alias, \n",
    "        on=df_bridge_silver_alias[\"RESTRIÇÕES\"] == df_dados03_alias[\"ITEM\"], \n",
    "        how=\"left\"\n",
    "    )   \n",
    "    .select(\n",
    "        df_bridge_silver_alias[\"*\"],\n",
    "        df_tabResponsável_alias[\"RESPONSAVEL\"].alias(\"NOME_PROP\"),\n",
    "        df_tabHistoria_alias[\"HISTORIA\"].alias(\"NOM_HISTORICA\"),\n",
    "        df_dados01_alias[\"PESO\"].alias(\"FRAT_CRÍTICA_ID\"),\n",
    "        df_dados02_alias[\"GERAL\"].alias(\"NOM_TIPO_ESTRUTURAL\"),\n",
    "        df_dados02_alias[\"PESO\"].alias(\"PESO_TIPO_ESTR\"),\n",
    "        df_dados03_alias[\"PESO\"].alias(\"PESO_RESTRIÇÃO\"),\n",
    "    )\n",
    ")\n",
    "\n",
    "display(df_bridge_gold)"
   ]
  },
  {
   "cell_type": "code",
   "execution_count": 0,
   "metadata": {
    "application/vnd.databricks.v1+cell": {
     "cellMetadata": {
      "byteLimit": 2048000,
      "rowLimit": 10000
     },
     "inputWidgets": {},
     "nuid": "ccec33c9-b784-44c4-8e54-3d73a39082d3",
     "showTitle": false,
     "title": ""
    }
   },
   "outputs": [],
   "source": [
    "#Tratamento gold\n",
    "df_bridge_gold=df_bridge_gold.withColumn('Risco', col('HISTORICA')  + col('PESO_RESTRIÇÃO')+ col('PESO_TIPO_ESTR') +  col('FRAT_CRÍTICA_ID')\n",
    "                                         )\n",
    "display(df_bridge_gold)"
   ]
  },
  {
   "cell_type": "markdown",
   "metadata": {
    "application/vnd.databricks.v1+cell": {
     "cellMetadata": {
      "byteLimit": 2048000,
      "rowLimit": 10000
     },
     "inputWidgets": {},
     "nuid": "b8ba71ff-9b72-494f-b405-011e1691fd13",
     "showTitle": false,
     "title": ""
    }
   },
   "source": [
    "Finalmente salvamos a camada gold na nossa pasta"
   ]
  },
  {
   "cell_type": "code",
   "execution_count": 0,
   "metadata": {
    "application/vnd.databricks.v1+cell": {
     "cellMetadata": {
      "byteLimit": 2048000,
      "rowLimit": 10000
     },
     "inputWidgets": {},
     "nuid": "92d86841-e21c-4ebc-a825-d46194c88bb4",
     "showTitle": false,
     "title": ""
    }
   },
   "outputs": [],
   "source": [
    "from pyspark.sql.functions import col\n",
    "\n",
    "# Rename columns with invalid characters\n",
    "df_bridge_gold = df_bridge_gold.withColumnRenamed(\"ANO CONSTRUÇÃO\", \"ANO_CONSTRUCAO\") \\\n",
    "                                   .withColumnRenamed(\"QTD LINHAS\", \"QTD_LINHAS\")\n",
    "\n",
    "# Assuming there might be other columns with invalid characters, ensure all column names are compliant\n",
    "# This is a generic approach to replace spaces with underscores in all column names\n",
    "for col_name in df_bridge_gold.columns:\n",
    "    new_col_name = col_name.replace(\" \", \"_\").replace(\",\", \"_\").replace(\";\", \"_\") \\\n",
    "                           .replace(\"{\", \"_\").replace(\"}\", \"_\").replace(\"(\", \"_\") \\\n",
    "                           .replace(\")\", \"_\").replace(\"\\n\", \"_\").replace(\"\\t\", \"_\") \\\n",
    "                           .replace(\"=\", \"_\")\n",
    "    df_bridge_gold = df_bridge_gold.withColumnRenamed(col_name, new_col_name)\n",
    "\n",
    "# Write the DataFrame to Delta\n",
    "df_bridge_gold.write.format('delta') \\\n",
    "    .mode('overwrite') \\\n",
    "    .option('mergeSchema', 'true') \\\n",
    "    .save('/mnt/azuredatabricksmvp2024/gold/bridge_gold')"
   ]
  },
  {
   "cell_type": "code",
   "execution_count": 0,
   "metadata": {
    "application/vnd.databricks.v1+cell": {
     "cellMetadata": {
      "byteLimit": 2048000,
      "rowLimit": 10000
     },
     "inputWidgets": {},
     "nuid": "19e3b6eb-edf0-4fc6-8a44-8c9a5721afa3",
     "showTitle": false,
     "title": ""
    }
   },
   "outputs": [],
   "source": [
    "%fs ls dbfs:/mnt/azuredatabricksmvp2024/gold"
   ]
  },
  {
   "cell_type": "code",
   "execution_count": 0,
   "metadata": {
    "application/vnd.databricks.v1+cell": {
     "cellMetadata": {
      "byteLimit": 2048000,
      "rowLimit": 10000
     },
     "inputWidgets": {},
     "nuid": "0ba45c37-2e32-4779-a4a5-42f17a74cd5b",
     "showTitle": false,
     "title": ""
    }
   },
   "outputs": [],
   "source": [
    "display(spark.read.format('delta').load('dbfs:/mnt/azuredatabricksmvp2024/gold/bridge_gold'))"
   ]
  },
  {
   "cell_type": "code",
   "execution_count": 0,
   "metadata": {
    "application/vnd.databricks.v1+cell": {
     "cellMetadata": {
      "byteLimit": 2048000,
      "rowLimit": 10000
     },
     "inputWidgets": {},
     "nuid": "1ebb24f7-20f8-4ead-8649-3ce002b46ac1",
     "showTitle": false,
     "title": ""
    }
   },
   "outputs": [],
   "source": [
    "import matplotlib.pyplot as plt\n",
    "import seaborn as sns\n",
    "\n",
    "# Display the first few rows of the dataframe\n",
    "df_bridge_gold.show()\n",
    "\n",
    "# Show the general info about dataframe\n",
    "df_bridge_gold.printSchema()\n",
    "\n",
    "# Calculate basic statistics for the numeric columns\n",
    "df_bridge_gold.describe().show()"
   ]
  },
  {
   "cell_type": "code",
   "execution_count": 0,
   "metadata": {
    "application/vnd.databricks.v1+cell": {
     "cellMetadata": {
      "byteLimit": 2048000,
      "rowLimit": 10000
     },
     "inputWidgets": {},
     "nuid": "42a3703a-43b8-462b-bb43-d3c8242456f6",
     "showTitle": false,
     "title": ""
    }
   },
   "outputs": [],
   "source": [
    "df_bridge_gold.createOrReplaceTempView(\"df_bridge_gold\")"
   ]
  },
  {
   "cell_type": "code",
   "execution_count": 0,
   "metadata": {
    "application/vnd.databricks.v1+cell": {
     "cellMetadata": {
      "byteLimit": 2048000,
      "rowLimit": 10000
     },
     "inputWidgets": {},
     "nuid": "0245cf1c-a457-484f-aa60-c0730d2f31bb",
     "showTitle": false,
     "title": ""
    }
   },
   "outputs": [],
   "source": [
    "plt.figure(figsize=(12, 8))\n",
    "sns.heatmap(df_bridge_gold_pd.corr(), cmap='coolwarm', annot=True, fmt=\".2f\")\n",
    "plt.title('Correlation Heatmap')\n",
    "plt.show()"
   ]
  },
  {
   "cell_type": "code",
   "execution_count": 0,
   "metadata": {
    "application/vnd.databricks.v1+cell": {
     "cellMetadata": {
      "byteLimit": 2048000,
      "rowLimit": 10000
     },
     "inputWidgets": {},
     "nuid": "fd77caec-4de2-4609-aa70-a444a5ed5f9f",
     "showTitle": false,
     "title": ""
    }
   },
   "outputs": [],
   "source": [
    "plt.figure(figsize=(10, 6))\n",
    "sns.countplot(x='NOM_TIPO_ESTRUTURAL', data=df_bridge_gold_pd)\n",
    "plt.title('Common types of bridges in the area')\n",
    "plt.show()"
   ]
  },
  {
   "cell_type": "markdown",
   "metadata": {
    "application/vnd.databricks.v1+cell": {
     "cellMetadata": {
      "byteLimit": 2048000,
      "rowLimit": 10000
     },
     "inputWidgets": {},
     "nuid": "8d1c244e-515a-416d-a53f-bf2fe293a43a",
     "showTitle": false,
     "title": ""
    }
   },
   "source": [
    "**Respondendo e autoavaliação**\n",
    "\n",
    "•   Risco estrutural das pontes? \n",
    "Observou-se que existe um risco maior em estruturas mais antigas e materiais concretos e aço. Os dados dizem isto mas historicamente as estruturas americanas de concreto e aço são muitíssimo superdimensionadas;\n",
    "\n",
    "•   Frequência necessária de inspeção? \n",
    "A frequência necessária foi determinada pelas inspeções anteriores, observando que quanto mais frequente a inspeção a estrutura tem menor risco. Observamos também que o período de inspeção mais utilizado é 24 meses, que para a quantidade de pontes é um bom parametro para concluir da necessidade de empresas que realizem este serviço;\n",
    "\n",
    "•   Quantidades de oportunidades e profissionais? \n",
    "Não conseguimos visualizar com gráficos, porém pelo entendimento do problema, observamos que pela quantidade de pontes e os risco altos segundo a metodologia adotada, haverá uma demanda crescente pela busca destes profissionais e empresas que trabalhem nesta área;\n",
    "\n",
    "•   Necessidade de investimento? \n",
    "O investimento é grande em função da quantidade de pontes, para cada estado poderá ser uma quantia mais viável para orçamentos plurianuais. Podemos observar que seria necessário um valor de investimento na faixa de 30B de reais;\n",
    "\n",
    "•   Adicional\n",
    "A base de dados, ainda observou-se algumas deficiências como valores negativos de investimento e o cálculo de risco maior para estruturas mais robustas. Também observou-se uma forte relação entre variáveis: tráfego médio, material estrutural e tipologias.\n",
    "Consideramos ter cumprido nossa análise, utilizado a nuvem adequadamente com os programas Azure e databricks e desenvolvido uma análise com respostas adequadas."
   ]
  }
 ],
 "metadata": {
  "application/vnd.databricks.v1+notebook": {
   "dashboards": [],
   "environmentMetadata": null,
   "language": "python",
   "notebookMetadata": {
    "mostRecentlyExecutedCommandWithImplicitDF": {
     "commandId": 4064879605080311,
     "dataframes": [
      "_sqldf"
     ]
    },
    "pythonIndentUnit": 4
   },
   "notebookName": "MVPMontoya",
   "widgets": {}
  }
 },
 "nbformat": 4,
 "nbformat_minor": 0
}
